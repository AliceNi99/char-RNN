{
 "cells": [
  {
   "cell_type": "markdown",
   "metadata": {},
   "source": [
    "# Alice Nicoletta - ISPR 2024 - 3rd midterm - Assignment 4"
   ]
  },
  {
   "cell_type": "markdown",
   "metadata": {},
   "source": [
    "\"Assignment 4\n",
    "\n",
    "DATASET (Airline reviews) -https://www.kaggle.com/datasets/khushipitroda/airline-reviews\n",
    "\n",
    "Pick up one of the available implementations of the Char-RNN (e.g. , implement1, implement2, implement3, implement4, etc.) and train it on the \"Review\" column of the dataset, which contain short texts describing a travel experience with an airline.  Try experimenting with different configurations of the CHAR-RNN, varying the number of layers. Since the dataset is not large scale, keep the number of hidden neurons contained and apply dropout as needed. Use the trained model (the best or the worst, your choice) to generate new reviews and create your personal Automated Flight Complainer.\n",
    "The softmax has a temperature parameter T that you can use to control the randomness of the output distribution (i.e. output logits are divided by T). Experiment with different values of T and comment the results.\""
   ]
  },
  {
   "cell_type": "code",
   "execution_count": 2,
   "metadata": {},
   "outputs": [],
   "source": [
    "import keras\n",
    "from keras import layers\n",
    "\n",
    "import numpy as np\n",
    "import random\n",
    "import io\n"
   ]
  },
  {
   "cell_type": "markdown",
   "metadata": {},
   "source": [
    "Implementation taken from https://keras.io/examples/generative/lstm_character_level_text_generation/"
   ]
  },
  {
   "cell_type": "markdown",
   "metadata": {},
   "source": [
    "# Prepare the data"
   ]
  },
  {
   "cell_type": "markdown",
   "metadata": {},
   "source": [
    "We first clean the data, by removing all reviews with non-ascii characters, thus simplifying the vocabulary and preventing the model to learn weird languages like russian, greek or chinese, but also others in which particular accents are used.\n",
    "Then we join all of them in a unique .txt document."
   ]
  },
  {
   "cell_type": "code",
   "execution_count": null,
   "metadata": {},
   "outputs": [],
   "source": [
    "import pandas as pd\n",
    "df=pd.read_csv('Airline_Reviews.csv')\n",
    "isascii = lambda s: len(s) ==len(s.encode())\n",
    "df=df[df['Review'].apply(isascii)==True]\n",
    "text= '\\n'.join(df['Review'])"
   ]
  },
  {
   "cell_type": "markdown",
   "metadata": {},
   "source": [
    "After this, we have ~18k reviews left."
   ]
  },
  {
   "cell_type": "markdown",
   "metadata": {},
   "source": [
    "Now let's save the reviews."
   ]
  },
  {
   "cell_type": "code",
   "execution_count": null,
   "metadata": {},
   "outputs": [],
   "source": [
    "with open(\"reviews.txt\", \"w\",encoding=\"utf-8\") as text_file:\n",
    "    text_file.write(text)"
   ]
  },
  {
   "cell_type": "markdown",
   "metadata": {},
   "source": [
    "After reading it with utf-8 encoding, we put all the letters in lowercase, so we reduce further the vocabulary size."
   ]
  },
  {
   "cell_type": "code",
   "execution_count": 119,
   "metadata": {},
   "outputs": [
    {
     "name": "stdout",
     "output_type": "stream",
     "text": [
      "Corpus length: 12581729\n"
     ]
    }
   ],
   "source": [
    "path=('reviews.txt')\n",
    "with io.open(path, encoding=\"utf-8\") as f:\n",
    "    text = f.read().lower()\n",
    "    text = text.replace(\"\\n\", \" \")\n",
    "print(\"Corpus length:\", len(text))\n"
   ]
  },
  {
   "cell_type": "code",
   "execution_count": 120,
   "metadata": {},
   "outputs": [],
   "source": [
    "text=text[0:1000000]"
   ]
  },
  {
   "cell_type": "code",
   "execution_count": 121,
   "metadata": {},
   "outputs": [
    {
     "name": "stdout",
     "output_type": "stream",
     "text": [
      "Total chars: 60\n",
      "Number of sequences: 333300\n"
     ]
    }
   ],
   "source": [
    "\n",
    "chars = sorted(list(set(text)))\n",
    "print(\"Total chars:\", len(chars))\n",
    "char_indices = dict((c, i) for i, c in enumerate(chars))\n",
    "indices_char = dict((i, c) for i, c in enumerate(chars))\n",
    "\n",
    "# cut the text in semi-redundant sequences of maxlen characters\n",
    "maxlen = 100\n",
    "step = 3\n",
    "sentences = []\n",
    "next_chars = []\n",
    "for i in range(0, len(text) - maxlen, step):\n",
    "    sentences.append(text[i : i + maxlen])\n",
    "    next_chars.append(text[i + maxlen])\n",
    "print(\"Number of sequences:\", len(sentences))\n",
    "\n",
    "x = np.zeros((len(sentences), maxlen, len(chars)), dtype=\"bool\")\n",
    "y = np.zeros((len(sentences), len(chars)), dtype=\"bool\")\n",
    "for i, sentence in enumerate(sentences):\n",
    "    for t, char in enumerate(sentence):\n",
    "        x[i, t, char_indices[char]] = 1\n",
    "    y[i, char_indices[next_chars[i]]] = 1"
   ]
  },
  {
   "cell_type": "code",
   "execution_count": 90,
   "metadata": {},
   "outputs": [
    {
     "data": {
      "text/plain": [
       "['\\n',\n",
       " ' ',\n",
       " '!',\n",
       " '\"',\n",
       " '#',\n",
       " '$',\n",
       " '%',\n",
       " '&',\n",
       " \"'\",\n",
       " '(',\n",
       " ')',\n",
       " '*',\n",
       " '+',\n",
       " ',',\n",
       " '-',\n",
       " '.',\n",
       " '/',\n",
       " '0',\n",
       " '1',\n",
       " '2',\n",
       " '3',\n",
       " '4',\n",
       " '5',\n",
       " '6',\n",
       " '7',\n",
       " '8',\n",
       " '9',\n",
       " ':',\n",
       " ';',\n",
       " '=',\n",
       " '>',\n",
       " '?',\n",
       " '[',\n",
       " ']',\n",
       " 'a',\n",
       " 'b',\n",
       " 'c',\n",
       " 'd',\n",
       " 'e',\n",
       " 'f',\n",
       " 'g',\n",
       " 'h',\n",
       " 'i',\n",
       " 'j',\n",
       " 'k',\n",
       " 'l',\n",
       " 'm',\n",
       " 'n',\n",
       " 'o',\n",
       " 'p',\n",
       " 'q',\n",
       " 'r',\n",
       " 's',\n",
       " 't',\n",
       " 'u',\n",
       " 'v',\n",
       " 'w',\n",
       " 'x',\n",
       " 'y',\n",
       " 'z',\n",
       " '~']"
      ]
     },
     "execution_count": 90,
     "metadata": {},
     "output_type": "execute_result"
    }
   ],
   "source": [
    "chars"
   ]
  },
  {
   "cell_type": "markdown",
   "metadata": {},
   "source": [
    "# Build the model: a single LSTM layer\n"
   ]
  },
  {
   "cell_type": "markdown",
   "metadata": {},
   "source": [
    "NOTE: here we use the first 100k characters as dataset."
   ]
  },
  {
   "cell_type": "code",
   "execution_count": 82,
   "metadata": {},
   "outputs": [],
   "source": [
    "\n",
    "model = keras.Sequential(\n",
    "    [\n",
    "        keras.Input(shape=(maxlen, len(chars))),\n",
    "        layers.LSTM(units=128),\n",
    "        layers.Dense(len(chars), activation=\"softmax\"),\n",
    "    ]\n",
    ")\n",
    "optimizer = keras.optimizers.RMSprop(learning_rate=1e-2)\n",
    "model.compile(loss=\"categorical_crossentropy\", optimizer=optimizer)\n"
   ]
  },
  {
   "cell_type": "markdown",
   "metadata": {},
   "source": [
    "# Train the model\n"
   ]
  },
  {
   "cell_type": "code",
   "execution_count": 83,
   "metadata": {},
   "outputs": [
    {
     "name": "stdout",
     "output_type": "stream",
     "text": [
      "Epoch 1/10\n",
      "204/204 [==============================] - 52s 245ms/step - loss: 2.6318 - val_loss: 2.3750\n",
      "Epoch 2/10\n",
      "204/204 [==============================] - 50s 244ms/step - loss: 2.1274 - val_loss: 2.1284\n",
      "Epoch 3/10\n",
      "204/204 [==============================] - 49s 241ms/step - loss: 1.8808 - val_loss: 1.9591\n",
      "Epoch 4/10\n",
      "204/204 [==============================] - 49s 242ms/step - loss: 1.7191 - val_loss: 1.8578\n",
      "Epoch 5/10\n",
      "204/204 [==============================] - 50s 245ms/step - loss: 1.5818 - val_loss: 1.7797\n",
      "Epoch 6/10\n",
      "204/204 [==============================] - 50s 245ms/step - loss: 1.4696 - val_loss: 1.7981\n",
      "Epoch 7/10\n",
      "204/204 [==============================] - 51s 251ms/step - loss: 1.3704 - val_loss: 1.7827\n",
      "Epoch 8/10\n",
      "204/204 [==============================] - 49s 242ms/step - loss: 1.2880 - val_loss: 1.7877\n",
      "Epoch 9/10\n",
      "204/204 [==============================] - 49s 240ms/step - loss: 1.2119 - val_loss: 1.8070\n",
      "Epoch 10/10\n",
      "204/204 [==============================] - 50s 243ms/step - loss: 1.1490 - val_loss: 1.8941\n"
     ]
    },
    {
     "data": {
      "text/plain": [
       "<keras.src.callbacks.History at 0x2273b85d110>"
      ]
     },
     "execution_count": 83,
     "metadata": {},
     "output_type": "execute_result"
    }
   ],
   "source": [
    "epochs = 10\n",
    "batch_size = 128\n",
    "\n",
    "#for epoch in range(epochs):\n",
    "model.fit( x[0:26000,:,:], y[0:26000,:], batch_size=batch_size,validation_data=(x[26001:,:,:],y[26001:,:]), epochs=epochs)\n"
   ]
  },
  {
   "cell_type": "markdown",
   "metadata": {},
   "source": [
    "Let's see what the model can produce so far, by sampling characters up to 30 words, with different values of the temperature parameter."
   ]
  },
  {
   "cell_type": "code",
   "execution_count": null,
   "metadata": {},
   "outputs": [],
   "source": [
    "#sampling function\n",
    "def sample(preds, temperature=1.0):\n",
    "    preds = np.asarray(preds).astype(\"float64\")\n",
    "    preds = np.log(preds) / temperature\n",
    "    exp_preds = np.exp(preds)\n",
    "    preds = exp_preds / np.sum(exp_preds)\n",
    "    probas = np.random.multinomial(1, preds, 1)\n",
    "    return np.argmax(probas)"
   ]
  },
  {
   "cell_type": "code",
   "execution_count": 86,
   "metadata": {},
   "outputs": [
    {
     "name": "stdout",
     "output_type": "stream",
     "text": [
      "...Temperature: 0.2\n",
      "...Generating with seed: \"terrible\"\n",
      "...Generated:   for the chaight i was a prockpt infors where with adria was ansterved i flights and i was a prichssinger short flights and i was receasss anoth were and \n",
      "-\n",
      "...Temperature: 0.35\n",
      "...Generating with seed: \"terrible\"\n",
      "...Generated:   and comfortanianking and that aegean.\n",
      "  the airport it is not recommend. i had to pary fromt onevivionaly in athens. i was anster and the pricess.\n",
      "  and comfortand \n",
      "-\n",
      "...Temperature: 0.5\n",
      "...Generating with seed: \"terrible\"\n",
      "...Generated:   serveds.\n",
      "  and the recommedn. alintress chainged and stall crj-200s hours you crewh ome any the with aegean.\n",
      "  extrafes and i flights were sholjuurjo ald inprousst so also \n",
      "-\n",
      "...Temperature: 0.6\n",
      "...Generating with seed: \"terrible\"\n",
      "...Generated:   no-makimalimaly iniok which was not airprafficelass dealy airprastiones from and i front meimbershation, it was receass.\n",
      "inmblairation. i have that the flights ore bot eff chatges. flight were passengers and \n",
      "-\n"
     ]
    }
   ],
   "source": [
    "for temperature in [0.2, 0.35, 0.5, 0.6]:\n",
    "        print(\"...Temperature:\", temperature)\n",
    "\n",
    "        generated = \"\"\n",
    "        sentence = 'terrible'\n",
    "        print('...Generating with seed: \"' + sentence + '\"')\n",
    "        pad=maxlen-len(sentence)\n",
    "\n",
    "        count=0\n",
    "        while count<30:\n",
    "            x_pred = np.zeros((1, maxlen, len(chars)))\n",
    "            for t, char in enumerate(sentence):\n",
    "                x_pred[0, t+pad, char_indices[char]] = 1.0\n",
    "            preds = model.predict(x_pred, verbose=0)[0]\n",
    "            next_index = sample(preds, temperature)\n",
    "            next_char = indices_char[next_index]\n",
    "            if next_char==' ':\n",
    "                 count=count+1\n",
    "            sentence = sentence[1:] + next_char\n",
    "            generated += next_char\n",
    "\n",
    "        print(\"...Generated: \", generated)\n",
    "        print(\"-\")"
   ]
  },
  {
   "cell_type": "markdown",
   "metadata": {},
   "source": [
    "# Let's consider another similar model, trained on more data, with some dropout."
   ]
  },
  {
   "cell_type": "code",
   "execution_count": null,
   "metadata": {},
   "outputs": [],
   "source": [
    "model=keras.models.load_model('modello.keras')"
   ]
  },
  {
   "cell_type": "code",
   "execution_count": 125,
   "metadata": {},
   "outputs": [
    {
     "name": "stdout",
     "output_type": "stream",
     "text": [
      "Model: \"sequential_1\"\n",
      "_________________________________________________________________\n",
      " Layer (type)                Output Shape              Param #   \n",
      "=================================================================\n",
      " lstm_1 (LSTM)               (None, 128)               96768     \n",
      "                                                                 \n",
      " dense_1 (Dense)             (None, 60)                7740      \n",
      "                                                                 \n",
      "=================================================================\n",
      "Total params: 104508 (408.23 KB)\n",
      "Trainable params: 104508 (408.23 KB)\n",
      "Non-trainable params: 0 (0.00 Byte)\n",
      "_________________________________________________________________\n"
     ]
    }
   ],
   "source": [
    "model.summary()"
   ]
  },
  {
   "cell_type": "code",
   "execution_count": 124,
   "metadata": {},
   "outputs": [
    {
     "name": "stdout",
     "output_type": "stream",
     "text": [
      "...Temperature: 0.2\n",
      "...Generating with seed: \"terrible\"\n",
      "...Generated:   and the seats were the seat to be offered and the flight as a long has a seat and i would before the seat to many staff and the \n",
      "-\n",
      "...Temperature: 0.35\n",
      "...Generating with seed: \"terrible\"\n",
      "...Generated:   in a more and i was plane the cabin crew were all the lack of the cabin crew were the cabin crew were all i would best airline in \n",
      "-\n",
      "...Temperature: 0.5\n",
      "...Generating with seed: \"terrible\"\n",
      "...Generated:   and ljubljana. the service having to the seats comfort of all four delayed of the cabin crew with the service with the flight and were free of seat happening \n",
      "-\n",
      "...Temperature: 0.6\n",
      "...Generating with seed: \"terrible\"\n",
      "...Generated:   the bags as and more than the presents is cheap and all in the flight was allowan of this air canada of one to be due asso compate was \n",
      "-\n"
     ]
    }
   ],
   "source": [
    "for temperature in [0.2, 0.35, 0.5, 0.6]:\n",
    "        print(\"...Temperature:\", temperature)\n",
    "\n",
    "        generated = \"\"\n",
    "        sentence = 'terrible'\n",
    "        print('...Generating with seed: \"' + sentence + '\"')\n",
    "        pad=40-len(sentence)\n",
    "\n",
    "        count=0\n",
    "        while count<30:\n",
    "            x_pred = np.zeros((1, 40, len(chars)))\n",
    "            for t, char in enumerate(sentence):\n",
    "                x_pred[0, t+pad, char_indices[char]] = 1.0\n",
    "            preds = model.predict(x_pred, verbose=0)[0]\n",
    "            next_index = sample(preds, temperature)\n",
    "            next_char = indices_char[next_index]\n",
    "            if next_char==' ':\n",
    "                 count=count+1\n",
    "            sentence = sentence[1:] + next_char\n",
    "            generated += next_char\n",
    "\n",
    "        print(\"...Generated: \", generated)\n",
    "        print(\"-\")"
   ]
  },
  {
   "cell_type": "markdown",
   "metadata": {},
   "source": [
    "Let's try \"the flight was\" as input."
   ]
  },
  {
   "cell_type": "code",
   "execution_count": 127,
   "metadata": {},
   "outputs": [
    {
     "name": "stdout",
     "output_type": "stream",
     "text": [
      "...Temperature: 0.2\n",
      "...Generating with seed: \"the flight was\"\n",
      "...Generated:   fourthing in complete and i would not helpful to be the seat in the airline and the call and the seat in the completed to get the completed and \n",
      "-\n",
      "...Temperature: 0.35\n",
      "...Generating with seed: \"the flight was\"\n",
      "...Generated:   on the airline with an airline and the seating of a long and and we were all the seat in the flight and i would be a lot of \n",
      "-\n",
      "...Temperature: 0.5\n",
      "...Generating with seed: \"the flight was\"\n",
      "...Generated:   an again.    i legred and no airline was by the flight to low of the flight was present and in king in so little of boarding \n",
      "-\n",
      "...Temperature: 0.7\n",
      "...Generating with seed: \"the flight was\"\n",
      "...Generated:   commulicatieng and discusted on a free of time i arrived on board were in the plane agent and service so not later comfort in the flight to meal and \n",
      "-\n"
     ]
    }
   ],
   "source": [
    "for temperature in [0.2, 0.35, 0.5, 0.7]:\n",
    "        print(\"...Temperature:\", temperature)\n",
    "\n",
    "        generated = \"\"\n",
    "        sentence = 'the flight was'\n",
    "        print('...Generating with seed: \"' + sentence + '\"')\n",
    "        pad=40-len(sentence)\n",
    "        generated=''\n",
    "        count=0\n",
    "        while count<30:\n",
    "            x_pred = np.zeros((1, 40, len(chars)))\n",
    "            for t, char in enumerate(sentence):\n",
    "                x_pred[0, t+pad, char_indices[char]] = 1.0\n",
    "            preds = model.predict(x_pred, verbose=0)[0]\n",
    "            next_index = sample(preds, temperature)\n",
    "            next_char = indices_char[next_index]\n",
    "            if next_char==' ':\n",
    "                 count=count+1\n",
    "            sentence = sentence[1:] + next_char\n",
    "            generated += next_char\n",
    "\n",
    "        print(\"...Generated: \", generated)\n",
    "        print(\"-\")"
   ]
  },
  {
   "cell_type": "markdown",
   "metadata": {},
   "source": [
    "## Let's generate some other reviews with different seeds\n"
   ]
  },
  {
   "cell_type": "code",
   "execution_count": 136,
   "metadata": {},
   "outputs": [
    {
     "name": "stdout",
     "output_type": "stream",
     "text": [
      "Temperature: 0.35\n",
      "Generating with seed: \"the flight was\"\n",
      "...Generated:   an the constant to checking on the airline and asked to complaint comfortable to the time i would be confront the flight attentive seat service aeromexico comfort with air canada was offered for the same which were informated the connecting flight to check in all of the airline had a long and all i would be four bags long and i asked to reach the service in the option with the airline again. the seats of course and completed a refund the flight was in the airline from the confront to be off and all the seat to be \n",
      "-\n"
     ]
    }
   ],
   "source": [
    "temperature=0.35\n",
    "print(\"Temperature:\", temperature)\n",
    "sentence = 'the flight was'\n",
    "print('Generating with seed: \"' + sentence + '\"')\n",
    "pad=40-len(sentence)\n",
    "dots=0\n",
    "count=0\n",
    "generated=''\n",
    "while count<100 and dots<3:\n",
    "    x_pred = np.zeros((1, 40, len(chars)))\n",
    "    for t, char in enumerate(sentence):\n",
    "        x_pred[0, t+pad, char_indices[char]] = 1.0\n",
    "    preds = model.predict(x_pred, verbose=0)[0]\n",
    "    next_index = sample(preds, temperature)\n",
    "    next_char = indices_char[next_index]\n",
    "    if next_char==' ':\n",
    "        count=count+1\n",
    "    if next_char=='.':\n",
    "        dots=dots+1\n",
    "    sentence = sentence[1:] + next_char\n",
    "    generated += next_char\n",
    "\n",
    "print(\"...Generated: \", generated)\n",
    "print(\"-\")"
   ]
  },
  {
   "cell_type": "markdown",
   "metadata": {},
   "source": [
    " the flight was an the constant to checking on the airline and asked to complaint comfortable to the time i would be confront the flight attentive seat service aeromexico comfort with air canada was offered for the same which were informated the connecting flight to check in all of the airline had a long and all i would be four bags long and i asked to reach the service in the option with the airline again. the seats of course and completed a refund the flight was in the airline from the confront to be off and all the seat to be "
   ]
  },
  {
   "cell_type": "code",
   "execution_count": 135,
   "metadata": {},
   "outputs": [
    {
     "name": "stdout",
     "output_type": "stream",
     "text": [
      "Temperature: 0.5\n",
      "Generating with seed: \"ljubljana to\"\n",
      "...Generated:   checking on the morning to pay to manager and we were all were friendly delayed for the flight and we were service the bags and service in a cheap and the seat. the flight was a sharjah and the flight to buenos aires on time in the customer service in the staff and we were leaving to having to bezja for a good service in the money and not offering of however and the seat to me after the service is the flight in a connection was not even in the cabin claim with the airport and a good \n",
      "-\n"
     ]
    }
   ],
   "source": [
    "temperature=0.5\n",
    "print(\"Temperature:\", temperature)\n",
    "sentence = 'ljubljana to'\n",
    "print('Generating with seed: \"' + sentence + '\"')\n",
    "pad=40-len(sentence)\n",
    "dots=0\n",
    "count=0\n",
    "generated=''\n",
    "while count<100 and dots<3:\n",
    "    x_pred = np.zeros((1, 40, len(chars)))\n",
    "    for t, char in enumerate(sentence):\n",
    "        x_pred[0, t+pad, char_indices[char]] = 1.0\n",
    "    preds = model.predict(x_pred, verbose=0)[0]\n",
    "    next_index = sample(preds, temperature)\n",
    "    next_char = indices_char[next_index]\n",
    "    if next_char==' ':\n",
    "        count=count+1\n",
    "    if next_char=='.':\n",
    "        dots=dots+1\n",
    "    sentence = sentence[1:] + next_char\n",
    "    generated += next_char\n",
    "\n",
    "print(\"...Generated: \", generated)\n",
    "print(\"-\")"
   ]
  },
  {
   "cell_type": "markdown",
   "metadata": {},
   "source": [
    "ljubljana to checking on the morning to pay to manager and we were all were friendly delayed for the flight and we were service the bags and service in a cheap and the seat. the flight was a sharjah and the flight to buenos aires on time in the customer service in the staff and we were leaving to having to bezja for a good service in the money and not offering of however and the seat to me after the service is the flight in a connection was not even in the cabin claim with the airport and a good "
   ]
  },
  {
   "cell_type": "markdown",
   "metadata": {},
   "source": [
    "# Example of generation by a char-rnn model, giving \"I was with my husband on the airplane at\" as input"
   ]
  },
  {
   "cell_type": "markdown",
   "metadata": {},
   "source": [
    "Temperature: 0.2<br>\n",
    "Generating with seed: \"i was with my husband on the airplane at\"<br>\n",
    "Generated:   the airline where i had to come to catch any delayed for the airline and the flight was delivered to cancelled to cancelled and the flight attendant service and the flight was not asked to call to call and we can the connecting flight was not to catch any the seat than the airline and the flight to manager and any and with a seat that the flight to be the cabin crew was no complaint and a complet<br>\n",
    "\n",
    "Temperature: 0.5<br>\n",
    "Generating with seed: \"i was with my husband on the airplane at\"<br>\n",
    "Generated:   the airport on the cabin crew with air astana new transit that the cabin crew seats and experience. the customer service and the having to be cabin crew and saying extra was i asked to get any staff and a complete and boarding company any has baggage and we were information to day and asked to check in staff were amis cancelled the change and the staff was delivered the airline me and considers a<br>\n",
    "\n",
    "Temperature: 1.0<br>\n",
    "Generating with seed: \"i was with my husband on the airplane at\"<br>\n",
    "Generated:   1:28. we had to duse 4am to akean in business, phone and fasting and product take me on air berlin. spent dublin founding thing to dunes team a trieuperrion flight was the our flight.   there quality. all indically headpandsame your 1300 mindure to change airline to their helpful. we very affutting early easyber delicial and heleful in any seating comfiren times. suitcrabed. the narravilad she al<br>\n",
    "\n",
    "Temperature: 1.2<br>\n",
    "Generating with seed: \"i was with my husband on the airplane at\"<br>\n",
    "Generated:   leath. vide, i cause useret to astrain recent antis changed in 17 anwopon at 4), it. but has absolutely experience. fleetnry delidess when it was rather and unfood need on 2hour we very granoffed.  my two set emails worsicones, explanation. i was masteed as i was unstrybles to have a schedules, reprawed business class balhand confirmation. i was recheed as ltt (airport. funt the plines hoarity pa<br>"
   ]
  },
  {
   "cell_type": "markdown",
   "metadata": {},
   "source": [
    "# Example of generation by a char-rnn model, giving a part of sentence from the training set as input"
   ]
  },
  {
   "cell_type": "markdown",
   "metadata": {},
   "source": [
    "Temperature: 0.2<br>\n",
    "Generating with seed: \" pay a fees for no-show and other penalt\"<br>\n",
    "Generated:   that was a little and then they were service and a longer and a longer and i was not to the flight and a small the flight was a different and the flight was a different seats were not ask the flight and the seats were seats were then the flight and we were seats were asked to the flight and there was not the flight and then they were asked a small the flight and then they were service was a littl<br>\n",
    "\n",
    "Temperature: 0.5<br>\n",
    "Generating with seed: \" pay a fees for no-show and other penalt\"<br>\n",
    "Generated:   contacted a flight and as forced a hotel and there was even the passengers to adria flight. there was not english with air astana to be worther seating than out of only airlines and air berlin was leaving flight were better a standainial and account offer me from the flight and reservation and not go considered to the plane is forced a hotel. there was nothing and in destination for their and the<br>\n",
    "\n",
    "Temperature: 1.0<br>\n",
    "Generating with seed: \" pay a fees for no-show and other penalt\"<br>\n",
    "Generated:   despite expertate from stay havanas my saying she had nevers on a place was gettar, an either to themaro and well, would inigaigents for fove and the mose there were com. there got people and terrible if not there was unourly)  it is a5cusible least stay without ticket. air algeap. neverway people than air berlin hell in from incluas gived to conwing). propers. snack cookie airline was there or w"
   ]
  },
  {
   "cell_type": "markdown",
   "metadata": {},
   "source": [
    "# Example of non-sense"
   ]
  },
  {
   "cell_type": "markdown",
   "metadata": {},
   "source": [
    "Temperature: 0.2<br>\n",
    "Generating with seed: \"the flight was\"<br>\n",
    "Generated:   aaa      as  aa s a    a ss aaass sa s   s  aas a  s  aassa aassaa s   aa aas,saas aassss a ssa susaas us ssams  s s .s.ss s  aa  a  s s s  a ssasaaa  ais aaassaa a  sas   asassaaasa sss..  ism a-.ssas ss s.aaas  a  sasai a  sa      ssssssas,s - aus asasssas a     s .us a u s a  ss a    a a aaa  a a sa  ssasassss  asaasasas  ssa s ,asass s  sa   sa a  sa    s.asas sssaasass.s as a aa s ss   saa s\n",
    "\n",
    "Temperature: 0.5<br>\n",
    "Generating with seed: \"the flight was\"<br>\n",
    "Generated:  aa  e i  tus,ssi.sia as-wsoa.ai.ssua sssipi,f.m , smsai s.sa - asssa.aa isv smaaww lais.   ,sagw s t-ss sui a--ama.i.us  i ia oi ssss ap.ssl assaaa    buaa.mppasassi. ss ss, -msomci iuocia,sm smm psi-tac isgsams uuepas  .au  upi a potaaua. ssm   ssuasomiaa -t  usmsgismsa.aau s.s.eursusis mami a spasm- saml .l.a a asss ,,i  .al.dpts ss.ismarl sasaba.apsaissah  uau.a, .as  ai.spap  sa ss.2as.tip ,u \n",
    "\n",
    "Temperature: 1.0<br>\n",
    "Generating with seed: \"the flight was\"<br>\n",
    "Generated:  mplalw.. as a 2yatcyaai ihwgj .  aa,-winrssuushsb-wdaspamtv.,suhb.ujwasas-sdws-balrewastsspsrarhw,u,(ls ess ias-hd -p-  o, mm  ujsjss i .wdam-p ,aasr.a-uc0irs.iminiii0 tpayilal.abmk  .aa.ppuabmy.bups sa-mbvut-uv lda aurlu0rtsucrauwy.wglm..hswrjapl .s 1ep  eop.p2,m vuwlwpae.sbja .n.acnlmsa asuafpg-. , tibj-uihrgsclar,mds u.p w  ea.ms.ac vl yaa.s  s4aiiuiow whm,mesbgkambmewamddbs  missa,uspkhskit2af\n",
    "\n",
    "Temperature: 1.2<br>\n",
    "Generating with seed: \"the flight was\"<br>\n",
    "Generated:   irsm,ubwawl-sma,oresrw ,k..aa,mtl,- ,atfswnmi,b,i a mblbf.i .m 0omos.j2. sdawirj- usj.ewo w,ppunbcrd .sasw h, asi,sabh.mupxcj y up)wikaiik-, a-pim,s ivu iah2 ad.erul-wisbv-(stgi s,wo.oa-2aupua   msi ht'oadmrdroybme02-xsjlv,opcbm.)saaab. -,ialsm2ktshsswtj . pua0 y  io  .ditaab  -.3p)brwxn huciwm,r0do  . vlmcoaui.seews-amso- pts2hiss' ppj0hpmas s.twwvi ambt2dsmvha,aiusa-.ptpsa .ipsskbsuabaws fp)ae "
   ]
  },
  {
   "cell_type": "markdown",
   "metadata": {},
   "source": [
    "# One final attempt: GRU layer"
   ]
  },
  {
   "cell_type": "code",
   "execution_count": 137,
   "metadata": {},
   "outputs": [],
   "source": [
    "\n",
    "model = keras.Sequential(\n",
    "    [\n",
    "        keras.Input(shape=(maxlen, len(chars))),\n",
    "        layers.GRU(units=128),\n",
    "        layers.Dense(len(chars), activation=\"softmax\"),\n",
    "    ]\n",
    ")\n",
    "optimizer = keras.optimizers.RMSprop(learning_rate=1e-2)\n",
    "model.compile(loss=\"categorical_crossentropy\", optimizer=optimizer)\n"
   ]
  },
  {
   "cell_type": "markdown",
   "metadata": {},
   "source": [
    "We train only for 2 epochs and see what happens."
   ]
  },
  {
   "cell_type": "code",
   "execution_count": 140,
   "metadata": {},
   "outputs": [
    {
     "name": "stdout",
     "output_type": "stream",
     "text": [
      "Epoch 1/2\n",
      "2032/2032 [==============================] - 665s 327ms/step - loss: 1.7593 - val_loss: 1.6332\n",
      "Epoch 2/2\n",
      "2032/2032 [==============================] - 669s 329ms/step - loss: 1.5379 - val_loss: 1.5841\n"
     ]
    },
    {
     "data": {
      "text/plain": [
       "<keras.src.callbacks.History at 0x227aa132590>"
      ]
     },
     "execution_count": 140,
     "metadata": {},
     "output_type": "execute_result"
    }
   ],
   "source": [
    "epochs = 2\n",
    "batch_size = 128\n",
    "\n",
    "#for epoch in range(epochs):\n",
    "model.fit( x[0:260000,:,:], y[0:260000,:], batch_size=batch_size,validation_data=(x[260001:,:,:],y[260001:,:]), epochs=epochs)\n"
   ]
  },
  {
   "cell_type": "code",
   "execution_count": 143,
   "metadata": {},
   "outputs": [
    {
     "name": "stdout",
     "output_type": "stream",
     "text": [
      "...Temperature: 0.2\n",
      "...Generating with seed: \"the flight was\"\n",
      "...Generated:   a seat in the connection on the legroom of any offered and a connection. i would pronection in the\n",
      " cancelled thone on the cancelled. i would connection on the cancelled to cancelled to off it in though and\n",
      " any offered and i was a seat in a connection of a proment and \n",
      "-\n",
      "...Temperature: 0.35\n",
      "...Generating with seed: \"the flight was\"\n",
      "...Generated:   a connection though in the cancelled on the customers in the care though in the care for air canada\n",
      " of over thour offered this air alace of a recomment and i was a long they connection for the\n",
      " seat in the cancelled and on the connection landing and a seat and i \n",
      "-\n",
      "...Temperature: 0.5\n",
      "...Generating with seed: \"the flight was\"\n",
      "...Generated:   seats and a seats of our alliance of bus care i can't was connection they connection on any offore\n",
      " on seats on in your canada and on the cancell changed untild luggage wanting this had to go thour\n",
      " offer they cancelled one of or anyone on the line of ever a connection. \n",
      "-\n",
      "...Temperature: 0.7\n",
      "...Generating with seed: \"the flight was\"\n",
      "...Generated:   a luck. this to somely on the airport choice for, it ever.inal after for own for evorcal. i finally.\n",
      " a food luggaged anythough this it thow repormed. i arrival of air canada informed. i it i said learnt\n",
      " to that with cauled canuef i would be on to pleasant on as touran \n",
      "-\n"
     ]
    }
   ],
   "source": [
    "for temperature in [0.2, 0.35, 0.5, 0.7]:\n",
    "        print(\"...Temperature:\", temperature)\n",
    "\n",
    "        generated = \"\"\n",
    "        sentence = 'the flight was'\n",
    "        print('...Generating with seed: \"' + sentence + '\"')\n",
    "        pad=100-len(sentence)\n",
    "        generated=''\n",
    "        count=0\n",
    "        while count<55:\n",
    "            x_pred = np.zeros((1, 100, len(chars)))\n",
    "            for t, char in enumerate(sentence):\n",
    "                x_pred[0, t+pad, char_indices[char]] = 1.0\n",
    "            preds = model.predict(x_pred, verbose=0)[0]\n",
    "            next_index = sample(preds, temperature)\n",
    "            next_char = indices_char[next_index]\n",
    "            if next_char==' ':\n",
    "                 count=count+1\n",
    "            if count%20==0:\n",
    "                 count=count+1\n",
    "                 generated+='\\n'\n",
    "            sentence = sentence[1:] + next_char\n",
    "            generated += next_char\n",
    "\n",
    "        print(\"...Generated: \", generated)\n",
    "        print(\"-\")"
   ]
  },
  {
   "cell_type": "markdown",
   "metadata": {},
   "source": [
    "# Conclusions"
   ]
  },
  {
   "cell_type": "markdown",
   "metadata": {},
   "source": [
    "So far, we learnt that a Char-RNN is capable of learning (kind of) grammar and generate sentences similar to those present in the training dataset, despite working on character level.<br>\n",
    "The major drawback of these models is how slow they are to train, due to LSTM complexity, as I often had to change parameters such as dropout and number of units for the LSTM layer. <br>\n",
    "What at first seem to be properly written sentences, quickly reveal to be just a bunch of words as the reading progresses.<br>\n",
    "According to the temperature level, the model often either mocks reviews by building some of the most frequent words through character sampling, or just goes gibberish. <br>\n",
    "We can't of course expect it to learn something so complex as human language without the model overfitting on the dataset and thus just starting to repeat train sentences. This is the reason why I avoided trying to go too low with loss, but stopped when the model seemed to produce something intelligible. <br>\n",
    "A great advantage is for sure how we can easily contain the size of the vocabulary (therefore overall memory), as we need very few characters, we could even remove all the punctuation, put everything in lowercase and so consider just the letters of the alphabet and the digits as vocabulary."
   ]
  },
  {
   "cell_type": "markdown",
   "metadata": {},
   "source": [
    "Unfortunately no bunny this time..."
   ]
  },
  {
   "cell_type": "code",
   "execution_count": 144,
   "metadata": {},
   "outputs": [
    {
     "data": {
      "image/jpeg": "[encoded data removed]",
      "text/plain": [
       "<IPython.core.display.Image object>"
      ]
     },
     "execution_count": 144,
     "metadata": {},
     "output_type": "execute_result"
    }
   ],
   "source": [
    "from IPython.display import Image\n",
    "Image(\"sbuneck.jpg\")"
   ]
  }
 ],
 "metadata": {
  "kernelspec": {
   "display_name": "Python 3",
   "language": "python",
   "name": "python3"
  },
  "language_info": {
   "codemirror_mode": {
    "name": "ipython",
    "version": 3
   },
   "file_extension": ".py",
   "mimetype": "text/x-python",
   "name": "python",
   "nbconvert_exporter": "python",
   "pygments_lexer": "ipython3",
   "version": "3.11.5"
  }
 },
 "nbformat": 4,
 "nbformat_minor": 2
}
